{
 "cells": [
  {
   "cell_type": "markdown",
   "id": "arranged-harmony",
   "metadata": {},
   "source": [
    "# Paramiko demo Jupyter Notebook\n",
    "\n"
   ]
  }
 ],
 "metadata": {
  "cell_metadata_filter": "-all",
  "jupytext": {
   "cell_metadata_filter": "-all",
   "notebook_metadata_filter": "-all"
  },
  "kernelspec": {
   "display_name": "Python 3",
   "language": "python",
   "name": "python3"
  }
 },
 "nbformat": 4,
 "nbformat_minor": 5
}
