{
 "cells": [
  {
   "cell_type": "markdown",
   "id": "arranged-harmony",
   "metadata": {},
   "source": [
    "# Paramiko demo Jupyter Notebook"
   ]
  },
  {
   "cell_type": "markdown",
   "id": "distinct-basic",
   "metadata": {},
   "source": [
    "## Import Modules"
   ]
  },
  {
   "cell_type": "code",
   "execution_count": 1,
   "id": "pregnant-degree",
   "metadata": {},
   "outputs": [],
   "source": [
    "import paramiko\n",
    "from getpass import getpass\n",
    "from pathlib import Path"
   ]
  },
  {
   "cell_type": "markdown",
   "id": "clean-update",
   "metadata": {},
   "source": [
    "The funny thing is that I was just trying to set up a Debian VM to build a [buildroot](https://buildroot.org/)\n",
    "system, and instantly forgot the root password, before setting up any accounts. I knew it was a gibberish\n",
    "acronym of a specific 6-letter word and I knew the first letter, so I tried to brute-force it with paramiko.\n",
    "\n",
    "*(*<split>***NOTE:*** *My first set-up step for newly provisioned Linux VMs is to run an ansible playbook that,\n",
    "among other things, disables logging in as root, and creates an account called `eliminmax` which can only be\n",
    "accessed with my SSH key, and they are only accessible to my laptop, so I don't put any effort into password\n",
    "security for them. If it were not a single-use password in an isolated environment, I'd take it far,* ***far***\n",
    "*more seriously.)*\n",
    "\n",
    "## Try to authenticate\n",
    "\n",
    "I set up a minimal Rocky Linux VMware Workstation VM on my laptop, with an SSH server, specifically for this\n",
    "assignment, with the hostname `paramiko-host`. My laptop runs the `dnsmasq` DNS/DHCP server, accessible to VMs\n",
    "and to localhost, which provides DNS resolution for my VMs, and from my laptop to my VMs."
   ]
  },
  {
   "cell_type": "code",
   "execution_count": 2,
   "id": "turkish-connection",
   "metadata": {},
   "outputs": [
    {
     "name": "stdout",
     "output_type": "stream",
     "text": [
      "Password for eliminmax@paramiko-host: ········\n"
     ]
    }
   ],
   "source": [
    "user = 'eliminmax'\n",
    "host = 'paramiko-host'\n",
    "port = 22\n",
    "\n",
    "# Allow up to 3 password attempts\n",
    "for _ in range(3):\n",
    "    try:\n",
    "        password = getpass(prompt=f'Password for {user}@{host}:{port+\":\" if port != 22 else \"\"} ')\n",
    "        ssh = paramiko.SSHClient()\n",
    "        ssh.set_missing_host_key_policy(paramiko.AutoAddPolicy())\n",
    "        ssh.connect(host, port, user, password)\n",
    "        break\n",
    "    except paramiko.AuthenticationError:\n",
    "        print(f'Authentication Failed for {user}@{host}{port+\":\" if port != 22 else \"\"}')\n",
    "else:\n",
    "    # If authentication failed, we should stop\n",
    "    exit()"
   ]
  },
  {
   "cell_type": "markdown",
   "id": "becoming-spirituality",
   "metadata": {},
   "source": [
    "### Run a command"
   ]
  },
  {
   "cell_type": "code",
   "execution_count": 4,
   "id": "refined-point",
   "metadata": {},
   "outputs": [],
   "source": [
    "commands = ['ps -ef', 'netstat -an --inet', 'last -adx', 'cut -d: -f1 /etc/passwd']\n",
    "\n",
    "for command in commands:\n",
    "    # save the command i/o streams\n",
    "    stdin, stdout, stderr = ssh.exec_command(command)\n",
    "\n",
    "    sep_header = f\"### BEGIN {command} ###\\n\\n\"\n",
    "    sep_footer = f\"#### END {command} ####\\n\\n\"\n",
    "\n",
    "    '''\n",
    "    # Get results from stdout\n",
    "    lines = stdout.readlines()\n",
    "    # convert the list into a strings\n",
    "    output = ''.join(lines)\n",
    "    '''\n",
    "    # This is a simpler way to get the same result\n",
    "    # print(stdout.read())\n",
    "    cmd_output = sep_header + stdout.read().decode() + sep_footer # decode bytes to string\n",
    "\n",
    "# Save to file\n",
    "    with open('ssh_results', 'a') as f:\n",
    "        f.write(cmd_output)"
   ]
  },
  {
   "cell_type": "markdown",
   "id": "prescribed-utilization",
   "metadata": {
    "lines_to_next_cell": 0
   },
   "source": [
    "## SFTP Time, baby!"
   ]
  },
  {
   "cell_type": "code",
   "execution_count": null,
   "id": "meaning-insurance",
   "metadata": {},
   "outputs": [],
   "source": [
    "sftp = ssh.open_sftp()\n",
    "files = ['/etc/hosts', '/etc/passwd', '/var/log/auth.log']\n",
    "local_dir = Path.cwd().joinpath('downloads', host)\n",
    "# ensure that local_dir exists:\n",
    "if not local_dir.is_dir():\n",
    "    local_dir.mkdir(parents=True)\n",
    "\n",
    "for file in files:\n",
    "    sftp.get(file, local_dir.joinpath(Path.name(file)))"
   ]
  },
  {
   "cell_type": "markdown",
   "id": "useful-grain",
   "metadata": {
    "lines_to_next_cell": 0
   },
   "source": [
    "### Close the SSH connection"
   ]
  },
  {
   "cell_type": "code",
   "execution_count": 5,
   "id": "responsible-negative",
   "metadata": {},
   "outputs": [],
   "source": [
    "ssh.close()"
   ]
  }
 ],
 "metadata": {
  "cell_metadata_filter": "-all",
  "jupytext": {
   "cell_metadata_filter": "-all",
   "notebook_metadata_filter": "-all"
  },
  "kernelspec": {
   "display_name": "Python 3",
   "language": "python",
   "name": "python3"
  },
  "language_info": {
   "codemirror_mode": {
    "name": "ipython",
    "version": 3
   },
   "file_extension": ".py",
   "mimetype": "text/x-python",
   "name": "python",
   "nbconvert_exporter": "python",
   "pygments_lexer": "ipython3",
   "version": "3.9.7"
  }
 },
 "nbformat": 4,
 "nbformat_minor": 5
}
