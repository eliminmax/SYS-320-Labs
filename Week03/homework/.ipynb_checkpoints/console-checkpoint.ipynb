{
 "cells": [
  {
   "cell_type": "markdown",
   "metadata": {},
   "source": [
    "# Import module and declare constant"
   ]
  },
  {
   "cell_type": "code",
   "execution_count": null,
   "metadata": {},
   "outputs": [],
   "source": [
    "import urlHaus\n",
    "import importlib\n",
    "importlib.reload(urlHaus)\n",
    "\n",
    "URL_HAUS_FILE = '../../logs/urlHaus.csv'"
   ]
  },
  {
   "cell_type": "markdown",
   "metadata": {},
   "source": [
    "# call the urlHausOpen function\n",
    "\n",
    "## Original"
   ]
  },
  {
   "cell_type": "code",
   "execution_count": null,
   "metadata": {},
   "outputs": [],
   "source": [
    "urlHaus.urlHausOpen(URL_HAUS_FILE, ['.php'])"
   ]
  },
  {
   "cell_type": "markdown",
   "id": "f06153e4",
   "metadata": {
    "lines_to_next_cell": 0
   },
   "source": [
    "## Domains that contain `.edu` or `.gov`"
   ]
  },
  {
   "cell_type": "code",
   "execution_count": null,
   "id": "690790f6",
   "metadata": {},
   "outputs": [],
   "source": [
    "urlHaus.urlHausOpen(URL_HAUS_FILE, ['\\\\.edu', '\\\\.gov'])"
   ]
  },
  {
   "cell_type": "markdown",
   "id": "0f9bc712",
   "metadata": {
    "lines_to_next_cell": 0
   },
   "source": [
    "## URLs that contain `.win32`"
   ]
  },
  {
   "cell_type": "code",
   "execution_count": null,
   "id": "a40fe99b",
   "metadata": {},
   "outputs": [],
   "source": [
    "urlHaus.urlHausOpen(URL_HAUS_FILE, ['.win32'])"
   ]
  },
  {
   "cell_type": "markdown",
   "metadata": {},
   "source": [
    "# Homework questions\n",
    "\n",
    "1. *Provide the URL to the CSV documentation on the Python website.  Ensure you select the site with the appropriate version of Python you are using.*\n",
    "   * https://docs.python.org/3.9/library/csv.html\n",
    "\n",
    "2. *What option is used if the default delimiter is not a comma?* \n",
    "   * for `csv.reader` objects: `reader = csv.reader(csvfile.readlines(), delimiter=':')`\n",
    "\n",
    "3. *In a CSV file that uses a comma as a delimiter, there may be a field with a comma within it.  What option does Python provide to escape the comma within the text of a field so it is differentiated with the comma as a field delimiter?*\n",
    "   * for `csv.reader` objects: `reader = csv.reader(csvfile.readlines(), delimiter=',', quotechar='^')`\n",
    "\n",
    "4. *What is the purpose of heredocs in Python?*\n",
    "  * I was not familiar with this term, but after looking it up, it appears to refer to multi-line strings, in the context of Python. I'd argue that the \"purpose\" is really multiple purposes - they can be used as long-form documentation, license information, and/or pre-formatted multi-line text blocks, and more.\n",
    "\n",
    "* *What did you like most and least about this assignment?*\n",
    "  * What I liked most was puzzling through what the broken code was supposed to do - the \"Eureka\" moment when it finally clicked was awesome. What I liked least was some mysterious error messages and inaccurate metadata when working with this `.ipynb` file - my setup consists of Python 3.9.7, Neovim v0.6.1 with the [jupytext.vim](https://github.com/goerz/jupytext.vim) plugin, and [jupytext](https://github.com/mwouts/jupytext), but the template for this file was made with Python 3.10.2, and a newer version of the Jupyter Notebook format. This caused a few warnings when running a previous version of it with `ipynb-exec`, the script I wrote to run Jupyter Notebooks in the terminal using `jupyter-nbconvert` and [`mdr`](https://github.com/MichaelMure/mdr). This sent me on a bit of a wild goose chase, before I ultimately manually removed the problematic metadata once I identified the problem.\n",
    "\n",
    "* *What additional questions do you have?*\n",
    "  * I can't think of any about the work, but I have many about the inner workings of Jupyter itself, and why it's designed the way it is - why store each cell as JSON data, rather than a format more friendly to version-control systems? Jupytext was created to convert between notebooks and either markdown files or scripts, so that it could integrate into a version control system.\n"
   ]
  }
 ],
 "metadata": {
  "interpreter": {
   "hash": "e849244212d109cc3cb88a1154d46bb16288231cb9cc2770bd078951feabfff8"
  },
  "kernelspec": {
   "display_name": "Python 3",
   "language": "python",
   "name": "python3"
  },
  "language_info": {
   "codemirror_mode": {
    "name": "ipython",
    "version": 3
   },
   "file_extension": ".py",
   "mimetype": "text/x-python",
   "name": "python",
   "nbconvert_exporter": "python",
   "pygments_lexer": "ipython3",
   "version": "3.9.7"
  }
 },
 "nbformat": 4,
 "nbformat_minor": 2
}
