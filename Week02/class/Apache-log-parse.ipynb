{
 "cells": [
  {
   "cell_type": "markdown",
   "id": "5b34749f",
   "metadata": {},
   "source": [
    "# Apache Logparser\n"
   ]
  },
  {
   "cell_type": "code",
   "execution_count": 1,
   "id": "0903cb7f",
   "metadata": {},
   "outputs": [],
   "source": [
    "import apache_log"
   ]
  },
  {
   "cell_type": "markdown",
   "id": "e01417aa-5080-4a62-bdd1-4b478ffaf056",
   "metadata": {
    "lines_to_next_cell": 0
   },
   "source": [
    "Load data based on patterns in `searchTerms.yaml`\n",
    "\n",
    "## PHP"
   ]
  },
  {
   "cell_type": "code",
   "execution_count": 2,
   "id": "3e591303",
   "metadata": {},
   "outputs": [
    {
     "name": "stdout",
     "output_type": "stream",
     "text": [
      "404 GET /wordpress/wp-login.php\n",
      "404 GET /mediawiki/index.php?title=Main_Page\n",
      "404 GET /wordpress/wp-login.php\n",
      "404 GET /mediawiki/index.php?title=Main_Page\n"
     ]
    }
   ],
   "source": [
    "apache_log.apache_events('../../logs/access.log', 'apache', 'php')"
   ]
  },
  {
   "cell_type": "markdown",
   "id": "0b56aa2b",
   "metadata": {
    "lines_to_next_cell": 0
   },
   "source": [
    "## CGI"
   ]
  },
  {
   "cell_type": "code",
   "execution_count": 3,
   "id": "2bb45f85",
   "metadata": {},
   "outputs": [
    {
     "name": "stdout",
     "output_type": "stream",
     "text": [
      "404 GET /cgi-bin/test-cgi\n",
      "404 GET /cgi-bin/htsearch?Exclude=%60/etc/passwd%60\n",
      "404 POST /cgi-bin/test-cgi\n",
      "404 GET /cgi-bin/test-cgi\n",
      "404 GET /cgi-bin/htsearch?Exclude=%60/etc/passwd%60\n",
      "404 POST /cgi-bin/test-cgi\n"
     ]
    }
   ],
   "source": [
    "apache_log.apache_events('../../logs/access.log', 'apache', 'cgi')"
   ]
  }
 ],
 "metadata": {
  "jupytext": {
   "cell_metadata_filter": "-all",
   "notebook_metadata_filter": "-all"
  },
  "kernelspec": {
   "display_name": "Python 3 (ipykernel)",
   "language": "python",
   "name": "python3"
  },
  "language_info": {
   "codemirror_mode": {
    "name": "ipython",
    "version": 3
   },
   "file_extension": ".py",
   "mimetype": "text/x-python",
   "name": "python",
   "nbconvert_exporter": "python",
   "pygments_lexer": "ipython3",
   "version": "3.9.7"
  },
  "toc-autonumbering": false,
  "toc-showcode": true,
  "toc-showmarkdowntxt": false,
  "toc-showtags": false
 },
 "nbformat": 4,
 "nbformat_minor": 5
}
