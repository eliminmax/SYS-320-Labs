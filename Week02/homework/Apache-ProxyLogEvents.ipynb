{
 "cells": [
  {
   "cell_type": "markdown",
   "id": "5b34749f",
   "metadata": {
    "lines_to_next_cell": 0
   },
   "source": [
    "# Apache/Proxy Log Events\n",
    "\n",
    "## Load modules"
   ]
  },
  {
   "cell_type": "code",
   "execution_count": 1,
   "id": "0903cb7f",
   "metadata": {},
   "outputs": [],
   "source": [
    "import log_printer"
   ]
  },
  {
   "cell_type": "markdown",
   "id": "e01417aa-5080-4a62-bdd1-4b478ffaf056",
   "metadata": {
    "lines_to_next_cell": 0
   },
   "source": [
    "## Apache Logs\n",
    "\n",
    "Apache log messages have the following format:\n",
    "\n",
    "0      | 1             | 2           | 3     | 4      | 5     | 6\n",
    "-------|---------------|-------------|-------|--------|-------|-------------------------------------------------------------------------------------------------------------------------\n",
    "`\"GET` | `/index.html` | `HTTP/1.1\"` | `200` | `4231` | `\"-\"` | `\"Mozilla/5.0 (Windows NT 10.0; Win64; x64) AppleWebKit/537.36 (KHTML, like Gecko) Chrome/78.0.3904.108 Safari/537.36\"`\n",
    "\n",
    "The fields of interest are 3, 0, and 1, and that order keeps things roughly aligned.\n",
    "\n",
    "### PHP\n",
    "\n",
    "Log events related to attempts to access content with `/wordpress/wp-login.php` or `/mediawiki/index.php` in the URI"
   ]
  },
  {
   "cell_type": "code",
   "execution_count": 2,
   "id": "3e591303",
   "metadata": {},
   "outputs": [],
   "source": [
    "log_printer.print_matched_events('../../logs/access.log', 'apache', 'php', [3,0,1])"
   ]
  },
  {
   "cell_type": "markdown",
   "id": "0b56aa2b",
   "metadata": {
    "lines_to_next_cell": 0
   },
   "source": [
    "### CGI\n",
    "\n",
    "Log events related to attempts to access content with `cgi-bin/test_cgi` or `cgi_bin/htsearch` in the URI"
   ]
  },
  {
   "cell_type": "code",
   "execution_count": 3,
   "id": "2bb45f85",
   "metadata": {},
   "outputs": [],
   "source": [
    "log_printer.print_matched_events('../../logs/access.log', 'apache', 'cgi', [3,0,1])"
   ]
  },
  {
   "cell_type": "markdown",
   "id": "c79defe7",
   "metadata": {},
   "source": [
    "## Proxifier Logs\n",
    "\n",
    "### Proxy Opened\n",
    "\n",
    "Proxy opened messages have the following format:\n",
    "\n",
    "0             | 1   | 2                     | 3      | 4         | 5       | 6                           | 7\n",
    "--------------|-----|-----------------------|--------|-----------|---------|-----------------------------|---------\n",
    "`Program.exe` | `-` | `hostname.example:80` | `open` | `through` | `proxy` | `proxy.domain.example:5070` | `HTTPS`\n",
    "\n",
    "The fields of interest are 0, 2, and 6."
   ]
  },
  {
   "cell_type": "code",
   "execution_count": 4,
   "id": "f2f64ed9",
   "metadata": {},
   "outputs": [
    {
     "name": "stdout",
     "output_type": "stream",
     "text": [
      "QQ.exe tcpconn.tencent.com:80 proxy.cse.cuhk.edu.hk:5070\n",
      "QQ.exe 183.60.49.182:443 proxy.cse.cuhk.edu.hk:5070\n",
      "QQ.exe tcpconn3.tencent.com:443 proxy.cse.cuhk.edu.hk:5070\n",
      "QQ.exe tcpconn6.tencent.com:80 proxy.cse.cuhk.edu.hk:5070\n",
      "QQ.exe tcpconn6.tencent.com:443 proxy.cse.cuhk.edu.hk:5070\n",
      "QQ.exe cgi.qqweb.qq.com:80 proxy.cse.cuhk.edu.hk:5070\n",
      "QQPlayer.exe btrace.qq.com:80 proxy.cse.cuhk.edu.hk:5070\n",
      "QQPlayer.exe btrace.qq.com:80 proxy.cse.cuhk.edu.hk:5070\n",
      "QQProtectUpd.exe qdun-data.qq.com:443 proxy.cse.cuhk.edu.hk:5070\n"
     ]
    }
   ],
   "source": [
    "log_printer.print_matched_events('../../logs/Proxifier_2k.log', 'qq', 'proxy_opened',[0,2,6])"
   ]
  },
  {
   "cell_type": "markdown",
   "id": "c0268d0c",
   "metadata": {},
   "source": [
    "### Proxy Closed\n",
    "\n",
    "Proxy closed messages have the following format:\n",
    "\n",
    "0             | 1   | 2                     | 3        | 4     | 5       | 6       | 7   | 8       | 9           | 10         | 11   | 12\n",
    "--------------|-----|-----------------------|----------|-------|---------|---------|-----|---------|-------------|------------|------|-------\n",
    "`Program.exe` | `-` | `hostname.example:80` | `close,` | `133` | `bytes` | `sent,` | `0` | `bytes` | `received,` | `lifetime` | `<1` | `sec`\n",
    "\n",
    "The fields of interest are 0, 2, 4. and 7."
   ]
  },
  {
   "cell_type": "code",
   "execution_count": 5,
   "id": "0d511ed7",
   "metadata": {},
   "outputs": [
    {
     "name": "stdout",
     "output_type": "stream",
     "text": [
      "QQ.exe tcpconn.tencent.com:80 133 0\n",
      "QQ.exe tcpconn3.tencent.com:80 0 0\n",
      "QQ.exe tcpconn6.tencent.com:443 0 0\n",
      "QQ.exe tcpconn6.tencent.com:80 0 0\n",
      "QQ.exe tcpconn3.tencent.com:443 149 121\n",
      "QQ.exe cgi.qqweb.qq.com:80 477 448\n",
      "QQ.exe qqmail.tencent.com:80 336 2854\n",
      "QQ.exe showxml.qq.com:80 600 1716\n",
      "QQ.exe 2052.flash2-http.qq.com:80 466 125682\n",
      "QQProtectUpd.exe qdun-data.qq.com:443 261 70\n"
     ]
    }
   ],
   "source": [
    "log_printer.print_matched_events('../../logs/Proxifier_2k.log', 'qq', 'proxy_closed', [0,2,4,7])"
   ]
  },
  {
   "cell_type": "markdown",
   "id": "2d8f79fe",
   "metadata": {},
   "source": [
    "# Questions\n",
    "\n",
    "*What is your interpretation of the results that you discovered (Did the files match known threat intell information?  Was there activity to and from the same remote host?)*\n",
    "\n",
    "The log entries seem, at a glance, to be consistent with the threat actor's *modus operandi*, but only at a surface level. Looking into it, all of the domains that the `QQ.*\\.exe` programs connected to appear to be subdomains of to `tencent.com` and `qq.com`, and a [quick DuckDuckGo search](https://duckduckgo.com/tencent%20qq?ia=web) results in information indicating that Tencent QQ is an IM service offered by Chinese tech giant Tencent, and with that knowledge, it appears that the logs are simply records of someone accessing QQ-related services via a proxy at the Chinese University of Hong Kong - the only proxy domain is a proxy on their website - `proxy.cse.cuhk.edu.hk`, with `cuhk.edu.hk` being the domain name for the aforementioned university.\n",
    "\n",
    "*What did you like the most and least about this assignment?*\n",
    "\n",
    "Not much to say here, to be honest. I enjoyed messing around with regular expressions, until the point in which a comma in my regex pattern broke my whole script - it was treated as plain text by [The Silver Searcher (`ag`)](https://github.com/ggreer/the_silver_searcher), a command-line tool to search for regex matches all files in a direcory that I used to quickly test my new regex patterns and craft the above tables, but I'd forgotten that `log_check.py` splits the regex patterns at commas. So to sum up, what I liked most and least about this assignment was working with regular expressions.\n",
    "\n",
    "*What additional questions do you have about this week's material?*\n",
    "\n",
    "None come to mind."
   ]
  }
 ],
 "metadata": {
  "jupytext": {
   "cell_metadata_filter": "-all",
   "notebook_metadata_filter": "-all"
  },
  "kernelspec": {
   "display_name": "Python 3 (ipykernel)",
   "language": "python",
   "name": "python3"
  },
  "language_info": {
   "codemirror_mode": {
    "name": "ipython",
    "version": 3
   },
   "file_extension": ".py",
   "mimetype": "text/x-python",
   "name": "python",
   "nbconvert_exporter": "python",
   "pygments_lexer": "ipython3",
   "version": "3.9.7"
  },
  "toc-autonumbering": false,
  "toc-showcode": true,
  "toc-showmarkdowntxt": false,
  "toc-showtags": false
 },
 "nbformat": 4,
 "nbformat_minor": 5
}
